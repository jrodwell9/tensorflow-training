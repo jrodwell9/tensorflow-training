{
  "nbformat": 4,
  "nbformat_minor": 0,
  "metadata": {
    "colab": {
      "provenance": [],
      "authorship_tag": "ABX9TyPvNUDPZPPQH7c/PAYRGcxe"
    },
    "kernelspec": {
      "name": "python3",
      "display_name": "Python 3"
    },
    "language_info": {
      "name": "python"
    }
  },
  "cells": [
    {
      "cell_type": "markdown",
      "source": [
        "# Tensorflow Basics\n",
        "\n",
        "Notebook for taking notes and trialing out code for the Tensorflow 2.0 Basics tutorial (https://www.tensorflow.org/tutorials/quickstart/beginner)."
      ],
      "metadata": {
        "id": "Wvd52KseTm1L"
      }
    },
    {
      "cell_type": "code",
      "execution_count": null,
      "metadata": {
        "id": "xonCe1c7TdgC"
      },
      "outputs": [],
      "source": []
    }
  ]
}