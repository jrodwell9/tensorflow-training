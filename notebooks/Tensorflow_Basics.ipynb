{
  "nbformat": 4,
  "nbformat_minor": 0,
  "metadata": {
    "colab": {
      "provenance": [],
      "authorship_tag": "ABX9TyM0LbrN+qgm438M3grOjr0N"
    },
    "kernelspec": {
      "name": "python3",
      "display_name": "Python 3"
    },
    "language_info": {
      "name": "python"
    }
  },
  "cells": [
    {
      "cell_type": "markdown",
      "source": [
        "# Tensorflow Basics\n",
        "\n",
        "Notebook for taking notes and trialing out code for the Tensorflow 2.0 Basics tutorial (https://www.tensorflow.org/tutorials/quickstart/beginner)."
      ],
      "metadata": {
        "id": "Wvd52KseTm1L"
      }
    },
    {
      "cell_type": "code",
      "execution_count": 1,
      "metadata": {
        "id": "xonCe1c7TdgC"
      },
      "outputs": [],
      "source": [
        "import tensorflow as tf"
      ]
    },
    {
      "cell_type": "code",
      "source": [
        "mnist = tf.keras.datasets.mnist\n",
        "\n",
        "(x_train, y_train), (x_test, y_test) = mnist.load_data()\n",
        "x_train, x_test = x_train / 255.0, x_test / 255.0"
      ],
      "metadata": {
        "colab": {
          "base_uri": "https://localhost:8080/"
        },
        "id": "68CLOkoH11rO",
        "outputId": "624a506e-ad05-439b-adea-87908f7181a0"
      },
      "execution_count": 2,
      "outputs": [
        {
          "output_type": "stream",
          "name": "stdout",
          "text": [
            "Downloading data from https://storage.googleapis.com/tensorflow/tf-keras-datasets/mnist.npz\n",
            "11490434/11490434 [==============================] - 0s 0us/step\n"
          ]
        }
      ]
    },
    {
      "cell_type": "code",
      "source": [
        "model = tf.keras.models.Sequential([\n",
        "    tf.keras.layers.Flatten(input_shape=(28, 28)),\n",
        "    tf.keras.layers.Dense(128, activation='relu'),\n",
        "    tf.keras.layers.Dropout(0.2),\n",
        "    tf.keras.layers.Dense(10)\n",
        "])"
      ],
      "metadata": {
        "id": "iXlvjkF_2Jro"
      },
      "execution_count": 3,
      "outputs": []
    },
    {
      "cell_type": "code",
      "source": [
        "# Don't bake in softmax to last layer activation as this may not be numerically stable\n",
        "predictions = model(x_train[:1]).numpy()\n",
        "tf.nn.softmax(predictions).numpy()"
      ],
      "metadata": {
        "colab": {
          "base_uri": "https://localhost:8080/"
        },
        "id": "PpHlYwPw2lwy",
        "outputId": "d7a16a0f-0956-4bb1-b12c-d929e2ff7245"
      },
      "execution_count": 5,
      "outputs": [
        {
          "output_type": "execute_result",
          "data": {
            "text/plain": [
              "array([[0.08927496, 0.10330383, 0.10928493, 0.11002354, 0.13594468,\n",
              "        0.0897333 , 0.03195685, 0.07866019, 0.09588695, 0.15593077]],\n",
              "      dtype=float32)"
            ]
          },
          "metadata": {},
          "execution_count": 5
        }
      ]
    },
    {
      "cell_type": "code",
      "source": [
        "loss_fn = tf.keras.losses.SparseCategoricalCrossentropy(from_logits=True)\n",
        "# Untrained model on one sample is close to random guess loss\n",
        "print(\"Random guess loss: \", -tf.math.log(1/10).numpy()) # 10 categories\n",
        "print(\"Our randomly initialised NN: \", loss_fn(y_train[:1], predictions).numpy())"
      ],
      "metadata": {
        "colab": {
          "base_uri": "https://localhost:8080/"
        },
        "id": "qHJCdiH-3C8h",
        "outputId": "c48a4ff4-4868-4d25-9344-fd3c822c8a2b"
      },
      "execution_count": 9,
      "outputs": [
        {
          "output_type": "stream",
          "name": "stdout",
          "text": [
            "Random guess loss:  2.3025851\n",
            "Our randomly initialised NN:  2.4109135\n"
          ]
        }
      ]
    },
    {
      "cell_type": "code",
      "source": [
        "model.compile(optimizer='adam', loss=loss_fn, metrics=['accuracy'])"
      ],
      "metadata": {
        "id": "G_iGv6lh4PLZ"
      },
      "execution_count": 12,
      "outputs": []
    },
    {
      "cell_type": "code",
      "source": [
        "model.fit(x_train, y_train, epochs=5)"
      ],
      "metadata": {
        "colab": {
          "base_uri": "https://localhost:8080/"
        },
        "id": "bzMceIrs5p86",
        "outputId": "6881fa0c-29de-4210-adc6-d51ee9227272"
      },
      "execution_count": 13,
      "outputs": [
        {
          "output_type": "stream",
          "name": "stdout",
          "text": [
            "Epoch 1/5\n",
            "1875/1875 [==============================] - 8s 4ms/step - loss: 0.2975 - accuracy: 0.9139\n",
            "Epoch 2/5\n",
            "1875/1875 [==============================] - 8s 4ms/step - loss: 0.1456 - accuracy: 0.9578\n",
            "Epoch 3/5\n",
            "1875/1875 [==============================] - 7s 4ms/step - loss: 0.1087 - accuracy: 0.9672\n",
            "Epoch 4/5\n",
            "1875/1875 [==============================] - 9s 5ms/step - loss: 0.0886 - accuracy: 0.9729\n",
            "Epoch 5/5\n",
            "1875/1875 [==============================] - 7s 4ms/step - loss: 0.0747 - accuracy: 0.9765\n"
          ]
        },
        {
          "output_type": "execute_result",
          "data": {
            "text/plain": [
              "<keras.src.callbacks.History at 0x7fe44368eb00>"
            ]
          },
          "metadata": {},
          "execution_count": 13
        }
      ]
    },
    {
      "cell_type": "code",
      "source": [
        "model.evaluate(x_test, y_test, verbose=2)"
      ],
      "metadata": {
        "colab": {
          "base_uri": "https://localhost:8080/"
        },
        "id": "16oA0pkQ5ux-",
        "outputId": "789829d9-8674-43ae-e71c-a09a614af3c3"
      },
      "execution_count": 14,
      "outputs": [
        {
          "output_type": "stream",
          "name": "stdout",
          "text": [
            "313/313 - 1s - loss: 0.0777 - accuracy: 0.9757 - 823ms/epoch - 3ms/step\n"
          ]
        },
        {
          "output_type": "execute_result",
          "data": {
            "text/plain": [
              "[0.07769825309515, 0.9757000207901001]"
            ]
          },
          "metadata": {},
          "execution_count": 14
        }
      ]
    },
    {
      "cell_type": "code",
      "source": [
        "probability_model = tf.keras.Sequential([\n",
        "    model, tf.keras.layers.Softmax()\n",
        "])"
      ],
      "metadata": {
        "id": "cA8lbbor6pAs"
      },
      "execution_count": 15,
      "outputs": []
    },
    {
      "cell_type": "code",
      "source": [
        "probability_model(x_test[:5])"
      ],
      "metadata": {
        "colab": {
          "base_uri": "https://localhost:8080/"
        },
        "id": "CS-9hREW7H1c",
        "outputId": "36a08a73-0d7d-4cc0-f676-7fbf8bf6ac50"
      },
      "execution_count": 16,
      "outputs": [
        {
          "output_type": "execute_result",
          "data": {
            "text/plain": [
              "<tf.Tensor: shape=(5, 10), dtype=float32, numpy=\n",
              "array([[7.19425884e-07, 7.04326055e-08, 1.13522314e-04, 9.33228235e-04,\n",
              "        9.16304740e-11, 2.87639725e-08, 2.44073069e-14, 9.98941243e-01,\n",
              "        1.06827565e-06, 1.01085170e-05],\n",
              "       [2.45091480e-09, 1.73488627e-06, 9.99992967e-01, 4.47756020e-06,\n",
              "        1.03192108e-15, 2.94239129e-07, 3.15649756e-10, 1.80449839e-12,\n",
              "        4.35412460e-07, 1.11514302e-15],\n",
              "       [7.95194183e-07, 9.97843385e-01, 2.20519389e-04, 4.52321729e-05,\n",
              "        1.47831515e-05, 8.49116077e-06, 1.66183236e-05, 1.22564880e-03,\n",
              "        6.23463013e-04, 1.01089847e-06],\n",
              "       [9.99990463e-01, 8.69471595e-12, 6.67027462e-06, 9.99018024e-09,\n",
              "        7.98088280e-08, 2.62063935e-07, 5.49779941e-07, 7.72450335e-07,\n",
              "        2.61769673e-09, 1.09905511e-06],\n",
              "       [2.48030437e-06, 4.00901179e-08, 1.73918652e-05, 1.42998226e-06,\n",
              "        9.97058392e-01, 1.69980819e-06, 1.91434151e-06, 1.16038638e-04,\n",
              "        5.97266137e-07, 2.80009792e-03]], dtype=float32)>"
            ]
          },
          "metadata": {},
          "execution_count": 16
        }
      ]
    },
    {
      "cell_type": "code",
      "source": [
        "# TODO: Play around with layer sizes to see effect on outputs\n",
        "#       Try loading a different dataset and building a model for that\n",
        "#       Play around with some of the Keras additional functionality\n",
        "#       Is there a nice way to store and compare results?"
      ],
      "metadata": {
        "id": "LAW7TgXS7LCK"
      },
      "execution_count": null,
      "outputs": []
    }
  ]
}