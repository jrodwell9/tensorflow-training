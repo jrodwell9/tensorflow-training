{
  "nbformat": 4,
  "nbformat_minor": 0,
  "metadata": {
    "colab": {
      "provenance": [],
      "authorship_tag": "ABX9TyPthscRbtYFhUZAFeOpNpgP"
    },
    "kernelspec": {
      "name": "python3",
      "display_name": "Python 3"
    },
    "language_info": {
      "name": "python"
    }
  },
  "cells": [
    {
      "cell_type": "markdown",
      "source": [
        "# Tensorflow Basics\n",
        "\n",
        "Notebook for taking notes and trialing out code for the Tensorflow 2.0 Basics tutorial (https://www.tensorflow.org/tutorials/quickstart/beginner)."
      ],
      "metadata": {
        "id": "Wvd52KseTm1L"
      }
    },
    {
      "cell_type": "code",
      "execution_count": 1,
      "metadata": {
        "id": "xonCe1c7TdgC"
      },
      "outputs": [],
      "source": [
        "import tensorflow as tf"
      ]
    },
    {
      "cell_type": "code",
      "source": [
        "mnist = tf.keras.datasets.mnist\n",
        "\n",
        "(x_train, y_train), (x_test, y_test) = mnist.load_data()\n",
        "x_train, x_test = x_train / 255.0, x_test / 255.0"
      ],
      "metadata": {
        "colab": {
          "base_uri": "https://localhost:8080/"
        },
        "id": "68CLOkoH11rO",
        "outputId": "624a506e-ad05-439b-adea-87908f7181a0"
      },
      "execution_count": null,
      "outputs": [
        {
          "output_type": "stream",
          "name": "stdout",
          "text": [
            "Downloading data from https://storage.googleapis.com/tensorflow/tf-keras-datasets/mnist.npz\n",
            "11490434/11490434 [==============================] - 0s 0us/step\n"
          ]
        }
      ]
    },
    {
      "cell_type": "code",
      "source": [
        "model = tf.keras.models.Sequential([\n",
        "    tf.keras.layers.Flatten(input_shape=(28, 28)),\n",
        "    tf.keras.layers.Dense(128, activation='relu'),\n",
        "    tf.keras.layers.Dropout(0.2),\n",
        "    tf.keras.layers.Dense(10)\n",
        "])"
      ],
      "metadata": {
        "id": "iXlvjkF_2Jro"
      },
      "execution_count": null,
      "outputs": []
    },
    {
      "cell_type": "code",
      "source": [
        "# Don't bake in softmax to last layer activation as this may not be numerically stable\n",
        "predictions = model(x_train[:1]).numpy()\n",
        "tf.nn.softmax(predictions).numpy()"
      ],
      "metadata": {
        "colab": {
          "base_uri": "https://localhost:8080/"
        },
        "id": "PpHlYwPw2lwy",
        "outputId": "d7a16a0f-0956-4bb1-b12c-d929e2ff7245"
      },
      "execution_count": null,
      "outputs": [
        {
          "output_type": "execute_result",
          "data": {
            "text/plain": [
              "array([[0.08927496, 0.10330383, 0.10928493, 0.11002354, 0.13594468,\n",
              "        0.0897333 , 0.03195685, 0.07866019, 0.09588695, 0.15593077]],\n",
              "      dtype=float32)"
            ]
          },
          "metadata": {},
          "execution_count": 5
        }
      ]
    },
    {
      "cell_type": "code",
      "source": [
        "loss_fn = tf.keras.losses.SparseCategoricalCrossentropy(from_logits=True)\n",
        "# Untrained model on one sample is close to random guess loss\n",
        "print(\"Random guess loss: \", -tf.math.log(1/10).numpy()) # 10 categories\n",
        "print(\"Our randomly initialised NN: \", loss_fn(y_train[:1], predictions).numpy())"
      ],
      "metadata": {
        "colab": {
          "base_uri": "https://localhost:8080/"
        },
        "id": "qHJCdiH-3C8h",
        "outputId": "c48a4ff4-4868-4d25-9344-fd3c822c8a2b"
      },
      "execution_count": null,
      "outputs": [
        {
          "output_type": "stream",
          "name": "stdout",
          "text": [
            "Random guess loss:  2.3025851\n",
            "Our randomly initialised NN:  2.4109135\n"
          ]
        }
      ]
    },
    {
      "cell_type": "code",
      "source": [
        "model.compile(optimizer='adam', loss=loss_fn, metrics=['accuracy'])"
      ],
      "metadata": {
        "id": "G_iGv6lh4PLZ"
      },
      "execution_count": null,
      "outputs": []
    },
    {
      "cell_type": "code",
      "source": [
        "model.fit(x_train, y_train, epochs=5)"
      ],
      "metadata": {
        "colab": {
          "base_uri": "https://localhost:8080/"
        },
        "id": "bzMceIrs5p86",
        "outputId": "6881fa0c-29de-4210-adc6-d51ee9227272"
      },
      "execution_count": null,
      "outputs": [
        {
          "output_type": "stream",
          "name": "stdout",
          "text": [
            "Epoch 1/5\n",
            "1875/1875 [==============================] - 8s 4ms/step - loss: 0.2975 - accuracy: 0.9139\n",
            "Epoch 2/5\n",
            "1875/1875 [==============================] - 8s 4ms/step - loss: 0.1456 - accuracy: 0.9578\n",
            "Epoch 3/5\n",
            "1875/1875 [==============================] - 7s 4ms/step - loss: 0.1087 - accuracy: 0.9672\n",
            "Epoch 4/5\n",
            "1875/1875 [==============================] - 9s 5ms/step - loss: 0.0886 - accuracy: 0.9729\n",
            "Epoch 5/5\n",
            "1875/1875 [==============================] - 7s 4ms/step - loss: 0.0747 - accuracy: 0.9765\n"
          ]
        },
        {
          "output_type": "execute_result",
          "data": {
            "text/plain": [
              "<keras.src.callbacks.History at 0x7fe44368eb00>"
            ]
          },
          "metadata": {},
          "execution_count": 13
        }
      ]
    },
    {
      "cell_type": "code",
      "source": [
        "model.evaluate(x_test, y_test, verbose=2)"
      ],
      "metadata": {
        "colab": {
          "base_uri": "https://localhost:8080/"
        },
        "id": "16oA0pkQ5ux-",
        "outputId": "789829d9-8674-43ae-e71c-a09a614af3c3"
      },
      "execution_count": null,
      "outputs": [
        {
          "output_type": "stream",
          "name": "stdout",
          "text": [
            "313/313 - 1s - loss: 0.0777 - accuracy: 0.9757 - 823ms/epoch - 3ms/step\n"
          ]
        },
        {
          "output_type": "execute_result",
          "data": {
            "text/plain": [
              "[0.07769825309515, 0.9757000207901001]"
            ]
          },
          "metadata": {},
          "execution_count": 14
        }
      ]
    },
    {
      "cell_type": "code",
      "source": [
        "probability_model = tf.keras.Sequential([\n",
        "    model, tf.keras.layers.Softmax()\n",
        "])"
      ],
      "metadata": {
        "id": "cA8lbbor6pAs"
      },
      "execution_count": null,
      "outputs": []
    },
    {
      "cell_type": "code",
      "source": [
        "probability_model(x_test[:5])"
      ],
      "metadata": {
        "colab": {
          "base_uri": "https://localhost:8080/"
        },
        "id": "CS-9hREW7H1c",
        "outputId": "36a08a73-0d7d-4cc0-f676-7fbf8bf6ac50"
      },
      "execution_count": null,
      "outputs": [
        {
          "output_type": "execute_result",
          "data": {
            "text/plain": [
              "<tf.Tensor: shape=(5, 10), dtype=float32, numpy=\n",
              "array([[7.19425884e-07, 7.04326055e-08, 1.13522314e-04, 9.33228235e-04,\n",
              "        9.16304740e-11, 2.87639725e-08, 2.44073069e-14, 9.98941243e-01,\n",
              "        1.06827565e-06, 1.01085170e-05],\n",
              "       [2.45091480e-09, 1.73488627e-06, 9.99992967e-01, 4.47756020e-06,\n",
              "        1.03192108e-15, 2.94239129e-07, 3.15649756e-10, 1.80449839e-12,\n",
              "        4.35412460e-07, 1.11514302e-15],\n",
              "       [7.95194183e-07, 9.97843385e-01, 2.20519389e-04, 4.52321729e-05,\n",
              "        1.47831515e-05, 8.49116077e-06, 1.66183236e-05, 1.22564880e-03,\n",
              "        6.23463013e-04, 1.01089847e-06],\n",
              "       [9.99990463e-01, 8.69471595e-12, 6.67027462e-06, 9.99018024e-09,\n",
              "        7.98088280e-08, 2.62063935e-07, 5.49779941e-07, 7.72450335e-07,\n",
              "        2.61769673e-09, 1.09905511e-06],\n",
              "       [2.48030437e-06, 4.00901179e-08, 1.73918652e-05, 1.42998226e-06,\n",
              "        9.97058392e-01, 1.69980819e-06, 1.91434151e-06, 1.16038638e-04,\n",
              "        5.97266137e-07, 2.80009792e-03]], dtype=float32)>"
            ]
          },
          "metadata": {},
          "execution_count": 16
        }
      ]
    },
    {
      "cell_type": "markdown",
      "source": [
        "## More complex dataset\n",
        "\n",
        "Use the CIFAR10 dataset to try a similar modelling technique using keras etc.\n",
        "\n",
        "This dataset contains 60,000 32x32 colour images in 10 classes."
      ],
      "metadata": {
        "id": "nJ7_X1xtjaQY"
      }
    },
    {
      "cell_type": "code",
      "source": [
        "# Load the dataset\n",
        "(X_train, y_train), (X_test, y_test) = tf.keras.datasets.cifar10.load_data()"
      ],
      "metadata": {
        "id": "ICuOz82jikMv"
      },
      "execution_count": 27,
      "outputs": []
    },
    {
      "cell_type": "code",
      "source": [
        "# Extremely low resolution images\n",
        "from matplotlib import pyplot as plt\n",
        "\n",
        "print(y_train[1])\n",
        "plt.imshow(X_train[1])"
      ],
      "metadata": {
        "colab": {
          "base_uri": "https://localhost:8080/",
          "height": 466
        },
        "id": "agGAqVHUkwpB",
        "outputId": "388bcc20-27eb-48e6-d403-356498a93069"
      },
      "execution_count": 6,
      "outputs": [
        {
          "output_type": "stream",
          "name": "stdout",
          "text": [
            "[9]\n"
          ]
        },
        {
          "output_type": "execute_result",
          "data": {
            "text/plain": [
              "<matplotlib.image.AxesImage at 0x78fd99629810>"
            ]
          },
          "metadata": {},
          "execution_count": 6
        },
        {
          "output_type": "display_data",
          "data": {
            "text/plain": [
              "<Figure size 640x480 with 1 Axes>"
            ],
            "image/png": "[encoded data removed]"
          },
          "metadata": {}
        }
      ]
    },
    {
      "cell_type": "code",
      "source": [
        "import numpy\n",
        "\n",
        "# Find the maximum pixel saturation\n",
        "max_sat = numpy.amax(X_train)\n",
        "\n",
        "# Normalise by the maximum saturation\n",
        "training_data, test_data = tf.data.Dataset.from_tensor_slices(((X_train / max_sat), y_train)), tf.data.Dataset.from_tensor_slices(((X_test / max_sat), y_test))"
      ],
      "metadata": {
        "id": "sWXweFQulrij"
      },
      "execution_count": 29,
      "outputs": []
    },
    {
      "cell_type": "code",
      "source": [
        "example = training_data.take(1)"
      ],
      "metadata": {
        "id": "8sZsXNLa6q7n"
      },
      "execution_count": 30,
      "outputs": []
    },
    {
      "cell_type": "code",
      "source": [
        "# Build a simple model using the Keras API\n",
        "# Each image has 32 x 32 x 3 = 3072 values and last layer (producing the logits)\n",
        "# requires 10 (for 10 categories).\n",
        "\n",
        "model = tf.keras.models.Sequential([\n",
        "    tf.keras.layers.Flatten(input_shape=(32, 32, 3)),\n",
        "    tf.keras.layers.Dense(128, activation='relu'),\n",
        "    tf.keras.layers.Dropout(0.2),\n",
        "    tf.keras.layers.Dense(10)\n",
        "])"
      ],
      "metadata": {
        "id": "L84ym2cDmqBH"
      },
      "execution_count": 43,
      "outputs": []
    },
    {
      "cell_type": "code",
      "source": [
        "# Define the loss function and compile the model with the loss function etc.\n",
        "\n",
        "loss_fn = tf.keras.losses.SparseCategoricalCrossentropy(from_logits=True)\n",
        "\n",
        "model.compile(optimizer=tf.keras.optimizers.Adam(learning_rate=1e-3),\n",
        "              loss=loss_fn, metrics=[\"accuracy\"])"
      ],
      "metadata": {
        "id": "DMY7AKf-m3zT"
      },
      "execution_count": 59,
      "outputs": []
    },
    {
      "cell_type": "code",
      "source": [
        "# Batch the dataset\n",
        "\n",
        "batched_dataset = training_data.batch(500)"
      ],
      "metadata": {
        "id": "busSzexu9vs-"
      },
      "execution_count": 54,
      "outputs": []
    },
    {
      "cell_type": "code",
      "source": [
        "# Fitting the model gives poor performance\n",
        "\n",
        "model.fit(batched_dataset, batch_size=500, epochs=25)"
      ],
      "metadata": {
        "colab": {
          "base_uri": "https://localhost:8080/"
        },
        "id": "S_iwUYF-oqZe",
        "outputId": "94189f33-62fd-4858-ffc1-102b6ca2b63a"
      },
      "execution_count": 61,
      "outputs": [
        {
          "output_type": "stream",
          "name": "stdout",
          "text": [
            "Epoch 1/25\n",
            "100/100 [==============================] - 5s 49ms/step - loss: 1.7858 - accuracy: 0.3488\n",
            "Epoch 2/25\n",
            "100/100 [==============================] - 4s 41ms/step - loss: 1.7776 - accuracy: 0.3549\n",
            "Epoch 3/25\n",
            "100/100 [==============================] - 3s 30ms/step - loss: 1.7748 - accuracy: 0.3529\n",
            "Epoch 4/25\n",
            "100/100 [==============================] - 3s 34ms/step - loss: 1.7706 - accuracy: 0.3563\n",
            "Epoch 5/25\n",
            "100/100 [==============================] - 4s 43ms/step - loss: 1.7684 - accuracy: 0.3598\n",
            "Epoch 6/25\n",
            "100/100 [==============================] - 3s 31ms/step - loss: 1.7628 - accuracy: 0.3607\n",
            "Epoch 7/25\n",
            "100/100 [==============================] - 5s 48ms/step - loss: 1.7575 - accuracy: 0.3623\n",
            "Epoch 8/25\n",
            "100/100 [==============================] - 3s 31ms/step - loss: 1.7537 - accuracy: 0.3629\n",
            "Epoch 9/25\n",
            "100/100 [==============================] - 3s 31ms/step - loss: 1.7485 - accuracy: 0.3677\n",
            "Epoch 10/25\n",
            "100/100 [==============================] - 4s 39ms/step - loss: 1.7478 - accuracy: 0.3661\n",
            "Epoch 11/25\n",
            "100/100 [==============================] - 3s 30ms/step - loss: 1.7470 - accuracy: 0.3658\n",
            "Epoch 12/25\n",
            "100/100 [==============================] - 3s 31ms/step - loss: 1.7385 - accuracy: 0.3706\n",
            "Epoch 13/25\n",
            "100/100 [==============================] - 4s 40ms/step - loss: 1.7339 - accuracy: 0.3690\n",
            "Epoch 14/25\n",
            "100/100 [==============================] - 3s 30ms/step - loss: 1.7358 - accuracy: 0.3691\n",
            "Epoch 15/25\n",
            "100/100 [==============================] - 3s 30ms/step - loss: 1.7338 - accuracy: 0.3699\n",
            "Epoch 16/25\n",
            "100/100 [==============================] - 4s 40ms/step - loss: 1.7293 - accuracy: 0.3725\n",
            "Epoch 17/25\n",
            "100/100 [==============================] - 4s 38ms/step - loss: 1.7299 - accuracy: 0.3713\n",
            "Epoch 18/25\n",
            "100/100 [==============================] - 4s 38ms/step - loss: 1.7284 - accuracy: 0.3752\n",
            "Epoch 19/25\n",
            "100/100 [==============================] - 4s 41ms/step - loss: 1.7255 - accuracy: 0.3730\n",
            "Epoch 20/25\n",
            "100/100 [==============================] - 3s 31ms/step - loss: 1.7200 - accuracy: 0.3743\n",
            "Epoch 21/25\n",
            "100/100 [==============================] - 3s 34ms/step - loss: 1.7190 - accuracy: 0.3754\n",
            "Epoch 22/25\n",
            "100/100 [==============================] - 3s 31ms/step - loss: 1.7209 - accuracy: 0.3741\n",
            "Epoch 23/25\n",
            "100/100 [==============================] - 3s 31ms/step - loss: 1.7178 - accuracy: 0.3769\n",
            "Epoch 24/25\n",
            "100/100 [==============================] - 4s 43ms/step - loss: 1.7182 - accuracy: 0.3748\n",
            "Epoch 25/25\n",
            "100/100 [==============================] - 3s 31ms/step - loss: 1.7166 - accuracy: 0.3745\n"
          ]
        },
        {
          "output_type": "execute_result",
          "data": {
            "text/plain": [
              "<keras.src.callbacks.History at 0x7c8ab4d685e0>"
            ]
          },
          "metadata": {},
          "execution_count": 61
        }
      ]
    },
    {
      "cell_type": "code",
      "source": [
        "# TODO: Play around with layer sizes to see effect on outputs\n",
        "#       Try loading a different dataset and building a model for that\n",
        "#       Play around with some of the Keras additional functionality\n",
        "#       Is there a nice way to store and compare results?"
      ],
      "metadata": {
        "id": "LAW7TgXS7LCK"
      },
      "execution_count": null,
      "outputs": []
    }
  ]
}